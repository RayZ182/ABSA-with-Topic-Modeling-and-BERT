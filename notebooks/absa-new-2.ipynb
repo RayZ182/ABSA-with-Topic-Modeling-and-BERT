{
 "cells": [
  {
   "cell_type": "code",
   "execution_count": 4,
   "metadata": {
    "_cell_guid": "b1076dfc-b9ad-4769-8c92-a6c4dae69d19",
    "_uuid": "8f2839f25d086af736a60e9eeb907d3b93b6e0e5",
    "execution": {
     "iopub.execute_input": "2025-04-02T13:34:00.846444Z",
     "iopub.status.busy": "2025-04-02T13:34:00.846060Z",
     "iopub.status.idle": "2025-04-02T13:34:00.855657Z",
     "shell.execute_reply": "2025-04-02T13:34:00.854877Z",
     "shell.execute_reply.started": "2025-04-02T13:34:00.846414Z"
    },
    "trusted": true
   },
   "outputs": [
    {
     "name": "stdout",
     "output_type": "stream",
     "text": [
      "/kaggle/input/imdb-dataset-of-50k-movie-reviews/IMDB Dataset.csv\n"
     ]
    }
   ],
   "source": [
    "# This Python 3 environment comes with many helpful analytics libraries installed\n",
    "# It is defined by the kaggle/python Docker image: https://github.com/kaggle/docker-python\n",
    "# For example, here's several helpful packages to load\n",
    "\n",
    "import numpy as np # linear algebra\n",
    "import pandas as pd # data processing, CSV file I/O (e.g. pd.read_csv)\n",
    "\n",
    "# Input data files are available in the read-only \"../input/\" directory\n",
    "# For example, running this (by clicking run or pressing Shift+Enter) will list all files under the input directory\n",
    "\n",
    "import os\n",
    "for dirname, _, filenames in os.walk('/kaggle/input'):\n",
    "    for filename in filenames:\n",
    "        print(os.path.join(dirname, filename))\n",
    "\n",
    "# You can write up to 20GB to the current directory (/kaggle/working/) that gets preserved as output when you create a version using \"Save & Run All\" \n",
    "# You can also write temporary files to /kaggle/temp/, but they won't be saved outside of the current session"
   ]
  },
  {
   "cell_type": "markdown",
   "metadata": {},
   "source": [
    "# Imports"
   ]
  },
  {
   "cell_type": "code",
   "execution_count": 5,
   "metadata": {
    "execution": {
     "iopub.execute_input": "2025-04-02T13:34:06.476507Z",
     "iopub.status.busy": "2025-04-02T13:34:06.476181Z",
     "iopub.status.idle": "2025-04-02T13:34:06.484751Z",
     "shell.execute_reply": "2025-04-02T13:34:06.483931Z",
     "shell.execute_reply.started": "2025-04-02T13:34:06.476479Z"
    },
    "trusted": true
   },
   "outputs": [
    {
     "name": "stdout",
     "output_type": "stream",
     "text": [
      "[nltk_data] Downloading package punkt to /usr/share/nltk_data...\n",
      "[nltk_data]   Package punkt is already up-to-date!\n",
      "[nltk_data] Downloading package stopwords to /usr/share/nltk_data...\n",
      "[nltk_data]   Package stopwords is already up-to-date!\n",
      "Setup complete. Using device: cuda\n"
     ]
    }
   ],
   "source": [
    "import pandas as pd\n",
    "import nltk\n",
    "from nltk.corpus import stopwords\n",
    "from nltk.tokenize import sent_tokenize, word_tokenize\n",
    "from gensim import corpora\n",
    "from gensim.models import LdaModel\n",
    "from transformers import BertTokenizer, BertForSequenceClassification\n",
    "import torch\n",
    "import matplotlib.pyplot as plt\n",
    "import re\n",
    "from collections import Counter\n",
    "from sklearn.metrics import precision_score, recall_score, f1_score\n",
    "\n",
    "# Download NLTK resources\n",
    "nltk.download('punkt')\n",
    "nltk.download('stopwords')\n",
    "\n",
    "# Global variables\n",
    "stop_words = set(stopwords.words('english'))\n",
    "device = torch.device(\"cuda\" if torch.cuda.is_available() else \"cpu\")\n",
    "\n",
    "print(\"Setup complete. Using device:\", device)"
   ]
  },
  {
   "cell_type": "markdown",
   "metadata": {},
   "source": [
    "# Loading and Preprocessing Data"
   ]
  },
  {
   "cell_type": "code",
   "execution_count": 3,
   "metadata": {
    "execution": {
     "iopub.execute_input": "2025-04-02T13:14:48.348198Z",
     "iopub.status.busy": "2025-04-02T13:14:48.347694Z",
     "iopub.status.idle": "2025-04-02T13:16:22.885346Z",
     "shell.execute_reply": "2025-04-02T13:16:22.884198Z",
     "shell.execute_reply.started": "2025-04-02T13:14:48.348175Z"
    },
    "trusted": true
   },
   "outputs": [
    {
     "name": "stdout",
     "output_type": "stream",
     "text": [
      "Preprocessing done. Sample:\n",
      "                                              review  \\\n",
      "0  One of the other reviewers has mentioned that ...   \n",
      "1  A wonderful little production. <br /><br />The...   \n",
      "2  I thought this was a wonderful way to spend ti...   \n",
      "3  Basically there's a family where a little boy ...   \n",
      "4  Petter Mattei's \"Love in the Time of Money\" is...   \n",
      "\n",
      "                                   cleaned_sentences  \n",
      "0  [one reviewers mentioned watching 1 oz episode...  \n",
      "1  [wonderful little production, filming techniqu...  \n",
      "2  [thought wonderful way spend time hot summer w...  \n",
      "3  [basically family little boy jake thinks zombi...  \n",
      "4  [petter mattei love time money visually stunni...  \n"
     ]
    }
   ],
   "source": [
    "# Load dataset\n",
    "df = pd.read_csv(\"/kaggle/input/imdb-dataset-of-50k-movie-reviews/IMDB Dataset.csv\")\n",
    "# df = df.sample(1000, random_state=42) \n",
    "\n",
    "# Preprocessing function\n",
    "def preprocess_review(review):\n",
    "    review = review.replace(\"br\", \"\").lower()  # Remove \"br\" noise\n",
    "    sentences = sent_tokenize(review)\n",
    "    cleaned_sentences = []\n",
    "    for sent in sentences:\n",
    "        words = word_tokenize(sent)\n",
    "        words = [word for word in words if word.isalnum() and word not in stop_words]\n",
    "        if words:\n",
    "            cleaned_sentences.append(\" \".join(words))\n",
    "    return cleaned_sentences\n",
    "\n",
    "# Apply preprocessing\n",
    "df['cleaned_sentences'] = df['review'].apply(preprocess_review)\n",
    "\n",
    "# Verify\n",
    "print(\"Preprocessing done. Sample:\")\n",
    "print(df[['review', 'cleaned_sentences']].head())"
   ]
  },
  {
   "cell_type": "markdown",
   "metadata": {},
   "source": [
    "# Topic Modeling with LDA"
   ]
  },
  {
   "cell_type": "code",
   "execution_count": 6,
   "metadata": {
    "execution": {
     "iopub.execute_input": "2025-04-02T13:34:17.912923Z",
     "iopub.status.busy": "2025-04-02T13:34:17.912614Z",
     "iopub.status.idle": "2025-04-02T13:49:56.033336Z",
     "shell.execute_reply": "2025-04-02T13:49:56.032324Z",
     "shell.execute_reply.started": "2025-04-02T13:34:17.912899Z"
    },
    "trusted": true
   },
   "outputs": [
    {
     "name": "stdout",
     "output_type": "stream",
     "text": [
      "LDA Topics:\n",
      "Topic 0: 0.049*\"movie\" + 0.022*\"one\" + 0.017*\"film\" + 0.016*\"see\" + 0.016*\"movies\" + 0.016*\"like\" + 0.015*\"would\" + 0.011*\"even\" + 0.009*\"watch\" + 0.009*\"good\"\n",
      "Topic 1: 0.025*\"film\" + 0.018*\"movie\" + 0.015*\"characters\" + 0.013*\"story\" + 0.013*\"plot\" + 0.012*\"scenes\" + 0.010*\"good\" + 0.010*\"well\" + 0.009*\"acting\" + 0.008*\"even\"\n",
      "Topic 2: 0.010*\"trek\" + 0.009*\"rental\" + 0.009*\"expects\" + 0.009*\"coburn\" + 0.009*\"eed\" + 0.009*\"one\" + 0.009*\"film\" + 0.008*\"lethargic\" + 0.005*\"art\" + 0.005*\"star\"\n",
      "Topic 3: 0.015*\"one\" + 0.009*\"story\" + 0.007*\"man\" + 0.007*\"life\" + 0.006*\"revenge\" + 0.006*\"fellow\" + 0.006*\"nasty\" + 0.006*\"goofy\" + 0.006*\"implausible\" + 0.006*\"mccoy\"\n",
      "Topic 4: 0.013*\"michael\" + 0.010*\"gives\" + 0.010*\"sheriff\" + 0.010*\"escaped\" + 0.009*\"technological\" + 0.009*\"symbolizes\" + 0.009*\"complacency\" + 0.009*\"role\" + 0.009*\"bowling\" + 0.007*\"performance\"\n"
     ]
    }
   ],
   "source": [
    "# Prepare data for LDA\n",
    "all_sentences = [sent for sublist in df['cleaned_sentences'] for sent in sublist if sent]\n",
    "tokenized_sentences = [sent.split() for sent in all_sentences]\n",
    "dictionary = corpora.Dictionary(tokenized_sentences)\n",
    "corpus = [dictionary.doc2bow(text) for text in tokenized_sentences]\n",
    "\n",
    "# Train LDA with 5 topics\n",
    "lda_model = LdaModel(corpus=corpus, id2word=dictionary, num_topics=5, passes=10, random_state=42)\n",
    "\n",
    "# Display topics\n",
    "print(\"LDA Topics:\")\n",
    "topics = lda_model.print_topics(num_words=10)\n",
    "for idx, topic in topics:\n",
    "    print(f\"Topic {idx}: {topic}\")\n",
    "\n",
    "# Save LDA models\n",
    "lda_model.save(\"/kaggle/working/lda_model.gensim\")\n",
    "dictionary.save(\"/kaggle/working/dictionary.gensim\")"
   ]
  },
  {
   "cell_type": "markdown",
   "metadata": {},
   "source": [
    "# Aspect Refinement"
   ]
  },
  {
   "cell_type": "code",
   "execution_count": 9,
   "metadata": {
    "execution": {
     "iopub.execute_input": "2025-04-02T14:08:14.007348Z",
     "iopub.status.busy": "2025-04-02T14:08:14.007031Z",
     "iopub.status.idle": "2025-04-02T14:09:42.269215Z",
     "shell.execute_reply": "2025-04-02T14:09:42.268362Z",
     "shell.execute_reply.started": "2025-04-02T14:08:14.007324Z"
    },
    "trusted": true
   },
   "outputs": [
    {
     "name": "stdout",
     "output_type": "stream",
     "text": [
      "Step 4 complete. Sample dominant topics:\n",
      "                                   cleaned_sentences  \\\n",
      "0  [one reviewers mentioned watching 1 oz episode...   \n",
      "1  [wonderful little production, filming techniqu...   \n",
      "2  [thought wonderful way spend time hot summer w...   \n",
      "3  [basically family little boy jake thinks zombi...   \n",
      "4  [petter mattei love time money visually stunni...   \n",
      "\n",
      "                   dominant_topic  \n",
      "0  [0, 0, 3, 3, 4, 2, 3, 4, 0, 2]  \n",
      "1           [1, 1, 0, 1, 0, 3, 1]  \n",
      "2                    [0, 1, 1, 0]  \n",
      "3              [3, 1, 3, 3, 0, 3]  \n",
      "4     [0, 3, 3, 1, 0, 1, 0, 3, 4]  \n"
     ]
    }
   ],
   "source": [
    "# Define aspect keywords\n",
    "aspect_keywords = {\n",
    "    \"acting\": [\"actor\", \"actress\", \"performance\", \"cast\", \"role\", \"played\", \"plays\"],\n",
    "    \"plot\": [\"story\", \"plot\", \"narrative\", \"script\", \"ending\"],\n",
    "    \"cinematography\": [\"visual\", \"cinematography\", \"camera\", \"shot\", \"scene\", \"scenes\", \"look\"],\n",
    "    \"soundtrack\": [\"music\", \"sound\", \"score\", \"soundtrack\", \"audio\"],\n",
    "    \"direction\": [\"director\", \"direction\", \"paced\", \"style\", \"vision\"],\n",
    "    \"overall\": [\"movie\", \"film\", \"good\", \"bad\", \"great\"]\n",
    "}\n",
    "\n",
    "# Topic-to-aspect mapping based on LDA output\n",
    "topic_to_aspect = {\n",
    "    0: \"general_viewing_experience\",\n",
    "    1: \"story_and_performance\",\n",
    "    2: \"production_quality\",\n",
    "    3: \"narrative_tone\",\n",
    "    4: \"character_roles_and_execution\",\n",
    "    -1: \"unknown\"\n",
    "}\n",
    "\n",
    "# Function to get dominant topic\n",
    "def get_dominant_topic(sentence):\n",
    "    if not sentence:\n",
    "        return -1\n",
    "    bow = dictionary.doc2bow(sentence.split())\n",
    "    topics = lda_model[bow]\n",
    "    return max(topics, key=lambda x: x[1])[0] if topics else -1\n",
    "\n",
    "# Assign dominant topics to each sentence in the DataFrame\n",
    "df['dominant_topic'] = df['cleaned_sentences'].apply(lambda x: [get_dominant_topic(sent) for sent in x])\n",
    "\n",
    "# Verify\n",
    "print(\"Step 4 complete. Sample dominant topics:\")\n",
    "print(df[['cleaned_sentences', 'dominant_topic']].head())"
   ]
  },
  {
   "cell_type": "code",
   "execution_count": 10,
   "metadata": {
    "execution": {
     "iopub.execute_input": "2025-04-02T14:09:52.366082Z",
     "iopub.status.busy": "2025-04-02T14:09:52.365774Z",
     "iopub.status.idle": "2025-04-02T14:09:52.386083Z",
     "shell.execute_reply": "2025-04-02T14:09:52.385134Z",
     "shell.execute_reply.started": "2025-04-02T14:09:52.366054Z"
    },
    "trusted": true
   },
   "outputs": [
    {
     "data": {
      "text/html": [
       "<div>\n",
       "<style scoped>\n",
       "    .dataframe tbody tr th:only-of-type {\n",
       "        vertical-align: middle;\n",
       "    }\n",
       "\n",
       "    .dataframe tbody tr th {\n",
       "        vertical-align: top;\n",
       "    }\n",
       "\n",
       "    .dataframe thead th {\n",
       "        text-align: right;\n",
       "    }\n",
       "</style>\n",
       "<table border=\"1\" class=\"dataframe\">\n",
       "  <thead>\n",
       "    <tr style=\"text-align: right;\">\n",
       "      <th></th>\n",
       "      <th>review</th>\n",
       "      <th>sentiment</th>\n",
       "      <th>cleaned_sentences</th>\n",
       "      <th>aspect_sentiment</th>\n",
       "      <th>dominant_topic</th>\n",
       "    </tr>\n",
       "  </thead>\n",
       "  <tbody>\n",
       "    <tr>\n",
       "      <th>0</th>\n",
       "      <td>One of the other reviewers has mentioned that ...</td>\n",
       "      <td>positive</td>\n",
       "      <td>[one reviewers mentioned watching 1 oz episode...</td>\n",
       "      <td>[(general_viewing_experience, None), (general_...</td>\n",
       "      <td>[0, 0, 3, 3, 4, 2, 3, 4, 0, 2]</td>\n",
       "    </tr>\n",
       "    <tr>\n",
       "      <th>1</th>\n",
       "      <td>A wonderful little production. &lt;br /&gt;&lt;br /&gt;The...</td>\n",
       "      <td>positive</td>\n",
       "      <td>[wonderful little production, filming techniqu...</td>\n",
       "      <td>[(story_and_performance, None), (story_and_per...</td>\n",
       "      <td>[1, 1, 0, 1, 0, 3, 1]</td>\n",
       "    </tr>\n",
       "    <tr>\n",
       "      <th>2</th>\n",
       "      <td>I thought this was a wonderful way to spend ti...</td>\n",
       "      <td>positive</td>\n",
       "      <td>[thought wonderful way spend time hot summer w...</td>\n",
       "      <td>[(general_viewing_experience, None), (story_an...</td>\n",
       "      <td>[0, 1, 1, 0]</td>\n",
       "    </tr>\n",
       "    <tr>\n",
       "      <th>3</th>\n",
       "      <td>Basically there's a family where a little boy ...</td>\n",
       "      <td>negative</td>\n",
       "      <td>[basically family little boy jake thinks zombi...</td>\n",
       "      <td>[(narrative_tone, None), (story_and_performanc...</td>\n",
       "      <td>[3, 1, 3, 3, 0, 3]</td>\n",
       "    </tr>\n",
       "    <tr>\n",
       "      <th>4</th>\n",
       "      <td>Petter Mattei's \"Love in the Time of Money\" is...</td>\n",
       "      <td>positive</td>\n",
       "      <td>[petter mattei love time money visually stunni...</td>\n",
       "      <td>[(general_viewing_experience, None), (narrativ...</td>\n",
       "      <td>[0, 3, 3, 1, 0, 1, 0, 3, 4]</td>\n",
       "    </tr>\n",
       "  </tbody>\n",
       "</table>\n",
       "</div>"
      ],
      "text/plain": [
       "                                              review sentiment  \\\n",
       "0  One of the other reviewers has mentioned that ...  positive   \n",
       "1  A wonderful little production. <br /><br />The...  positive   \n",
       "2  I thought this was a wonderful way to spend ti...  positive   \n",
       "3  Basically there's a family where a little boy ...  negative   \n",
       "4  Petter Mattei's \"Love in the Time of Money\" is...  positive   \n",
       "\n",
       "                                   cleaned_sentences  \\\n",
       "0  [one reviewers mentioned watching 1 oz episode...   \n",
       "1  [wonderful little production, filming techniqu...   \n",
       "2  [thought wonderful way spend time hot summer w...   \n",
       "3  [basically family little boy jake thinks zombi...   \n",
       "4  [petter mattei love time money visually stunni...   \n",
       "\n",
       "                                    aspect_sentiment  \\\n",
       "0  [(general_viewing_experience, None), (general_...   \n",
       "1  [(story_and_performance, None), (story_and_per...   \n",
       "2  [(general_viewing_experience, None), (story_an...   \n",
       "3  [(narrative_tone, None), (story_and_performanc...   \n",
       "4  [(general_viewing_experience, None), (narrativ...   \n",
       "\n",
       "                   dominant_topic  \n",
       "0  [0, 0, 3, 3, 4, 2, 3, 4, 0, 2]  \n",
       "1           [1, 1, 0, 1, 0, 3, 1]  \n",
       "2                    [0, 1, 1, 0]  \n",
       "3              [3, 1, 3, 3, 0, 3]  \n",
       "4     [0, 3, 3, 1, 0, 1, 0, 3, 4]  "
      ]
     },
     "execution_count": 10,
     "metadata": {},
     "output_type": "execute_result"
    }
   ],
   "source": [
    "df.head()"
   ]
  },
  {
   "cell_type": "markdown",
   "metadata": {},
   "source": [
    "# Sentiment Analysis using BERT"
   ]
  },
  {
   "cell_type": "code",
   "execution_count": null,
   "metadata": {
    "execution": {
     "iopub.execute_input": "2025-04-02T14:12:12.653919Z",
     "iopub.status.busy": "2025-04-02T14:12:12.653578Z",
     "iopub.status.idle": "2025-04-02T14:12:18.739918Z",
     "shell.execute_reply": "2025-04-02T14:12:18.738715Z",
     "shell.execute_reply.started": "2025-04-02T14:12:12.653883Z"
    },
    "trusted": true
   },
   "outputs": [
    {
     "data": {
      "application/vnd.jupyter.widget-view+json": {
       "model_id": "947f09a210b94f19afacd4dae53b9727",
       "version_major": 2,
       "version_minor": 0
      },
      "text/plain": [
       "tokenizer_config.json:   0%|          | 0.00/48.0 [00:00<?, ?B/s]"
      ]
     },
     "metadata": {},
     "output_type": "display_data"
    },
    {
     "data": {
      "application/vnd.jupyter.widget-view+json": {
       "model_id": "3be67e2e5ef845028171864a7564b388",
       "version_major": 2,
       "version_minor": 0
      },
      "text/plain": [
       "vocab.txt:   0%|          | 0.00/232k [00:00<?, ?B/s]"
      ]
     },
     "metadata": {},
     "output_type": "display_data"
    },
    {
     "data": {
      "application/vnd.jupyter.widget-view+json": {
       "model_id": "12e77a29955f4c67a008ea2b9b265eb2",
       "version_major": 2,
       "version_minor": 0
      },
      "text/plain": [
       "special_tokens_map.json:   0%|          | 0.00/112 [00:00<?, ?B/s]"
      ]
     },
     "metadata": {},
     "output_type": "display_data"
    },
    {
     "data": {
      "application/vnd.jupyter.widget-view+json": {
       "model_id": "836c076fe4234508b16ec4ccd14193c3",
       "version_major": 2,
       "version_minor": 0
      },
      "text/plain": [
       "config.json:   0%|          | 0.00/477 [00:00<?, ?B/s]"
      ]
     },
     "metadata": {},
     "output_type": "display_data"
    },
    {
     "data": {
      "application/vnd.jupyter.widget-view+json": {
       "model_id": "06bfbbd61bee4868b43115d522dcdede",
       "version_major": 2,
       "version_minor": 0
      },
      "text/plain": [
       "pytorch_model.bin:   0%|          | 0.00/438M [00:00<?, ?B/s]"
      ]
     },
     "metadata": {},
     "output_type": "display_data"
    },
    {
     "name": "stdout",
     "output_type": "stream",
     "text": [
      "Model and tokenizer loaded successfully.\n",
      "Test: 'The acting was great.' -> Sentiment: positive\n",
      "BERT model and tokenizer saved to /kaggle/working/\n"
     ]
    }
   ],
   "source": [
    "from transformers import BertTokenizer, BertForSequenceClassification\n",
    "import torch\n",
    "import shutil\n",
    "import os\n",
    "\n",
    "# Clear any cached files to force fresh download\n",
    "cache_dir = \"/kaggle/working/transformers_cache\"\n",
    "if os.path.exists(cache_dir):\n",
    "    shutil.rmtree(cache_dir) \n",
    "    print(\"Cleared cache to force fresh download.\")\n",
    "\n",
    "# Load binary BERT model\n",
    "model_name = \"textattack/bert-base-uncased-SST-2\"\n",
    "try:\n",
    "    tokenizer = BertTokenizer.from_pretrained(model_name, cache_dir=cache_dir)\n",
    "    model = BertForSequenceClassification.from_pretrained(model_name, cache_dir=cache_dir)\n",
    "    model.to(device)\n",
    "    print(\"Model and tokenizer loaded successfully.\")\n",
    "except Exception as e:\n",
    "    print(f\"Error loading model: {e}\")\n",
    "    raise\n",
    "\n",
    "# Test the model on a sample sentence\n",
    "sample_sentence = \"The acting was great.\"\n",
    "inputs = tokenizer(sample_sentence, return_tensors=\"pt\", truncation=True, padding=True, max_length=128)\n",
    "inputs = {key: val.to(device) for key, val in inputs.items()}\n",
    "with torch.no_grad():\n",
    "    outputs = model(**inputs)\n",
    "logits = outputs.logits\n",
    "sentiment_id = torch.argmax(logits, dim=1).item()\n",
    "sentiment = \"positive\" if sentiment_id == 1 else \"negative\"\n",
    "print(f\"Test: '{sample_sentence}' -> Sentiment: {sentiment}\")\n",
    "\n",
    "# Save BERT models\n",
    "model.save_pretrained(\"/kaggle/working/bert_model\")\n",
    "tokenizer.save_pretrained(\"/kaggle/working/bert_tokenizer\")"
   ]
  },
  {
   "cell_type": "markdown",
   "metadata": {},
   "source": [
    "# Combine Aspects and Sentiments"
   ]
  },
  {
   "cell_type": "code",
   "execution_count": 12,
   "metadata": {
    "execution": {
     "iopub.execute_input": "2025-04-02T14:16:26.423950Z",
     "iopub.status.busy": "2025-04-02T14:16:26.423587Z",
     "iopub.status.idle": "2025-04-02T15:28:53.706268Z",
     "shell.execute_reply": "2025-04-02T15:28:53.705318Z",
     "shell.execute_reply.started": "2025-04-02T14:16:26.423924Z"
    },
    "trusted": true
   },
   "outputs": [
    {
     "name": "stdout",
     "output_type": "stream",
     "text": [
      "Step 6 complete. Sample aspect-sentiment pairs:\n",
      "                                   cleaned_sentences  \\\n",
      "0  [one reviewers mentioned watching 1 oz episode...   \n",
      "1  [wonderful little production, filming techniqu...   \n",
      "2  [thought wonderful way spend time hot summer w...   \n",
      "3  [basically family little boy jake thinks zombi...   \n",
      "4  [petter mattei love time money visually stunni...   \n",
      "\n",
      "                                    aspect_sentiment  \n",
      "0  [(general_viewing_experience, positive), (cine...  \n",
      "1  [(story_and_performance, positive), (overall, ...  \n",
      "2  [(general_viewing_experience, positive), (plot...  \n",
      "3  [(overall, negative), (overall, positive), (na...  \n",
      "4  [(cinematography, positive), (overall, positiv...  \n"
     ]
    }
   ],
   "source": [
    "# Function to analyze a review and return aspect-sentiment pairs\n",
    "def analyze_review(review):\n",
    "    # Preprocess the review\n",
    "    sentences = sent_tokenize(review.lower().replace(\"br\", \"\"))\n",
    "    cleaned_sentences = []\n",
    "    for sent in sentences:\n",
    "        words = word_tokenize(sent)\n",
    "        words = [word for word in words if word.isalnum() and word not in stop_words]\n",
    "        if words:\n",
    "            cleaned_sentences.append(\" \".join(words))\n",
    "    \n",
    "    # Extract aspects and corresponding clauses\n",
    "    def extract_aspects_and_clauses(sentence):\n",
    "        clauses = re.split(r'\\b(but|and|,)\\b', sentence)\n",
    "        clauses = [clause.strip() for clause in clauses if clause.strip() and clause not in [\"but\", \"and\", \",\"]]\n",
    "        aspects = []\n",
    "        clause_texts = []\n",
    "        for clause in clauses:\n",
    "            found_aspects = []\n",
    "            for aspect, keywords in aspect_keywords.items():\n",
    "                if any(kw in clause for kw in keywords):\n",
    "                    found_aspects.append(aspect)\n",
    "            if found_aspects:\n",
    "                aspects.extend(found_aspects)\n",
    "                clause_texts.append(clause)\n",
    "        # Fallback to LDA if no keywords match\n",
    "        if not aspects:\n",
    "            bow = dictionary.doc2bow(sentence.split())\n",
    "            topics = lda_model[bow]\n",
    "            if topics:\n",
    "                topic_id = max(topics, key=lambda x: x[1])[0]\n",
    "                aspects.append(topic_to_aspect.get(topic_id, \"unknown\"))\n",
    "                clause_texts.append(sentence)\n",
    "        return aspects, clause_texts if clause_texts else [sentence]\n",
    "    \n",
    "    # Predict sentiment using BERT\n",
    "    def get_sentiment(text):\n",
    "        if not text:\n",
    "            return \"positive\"  # Default for empty text\n",
    "        inputs = tokenizer(text, return_tensors=\"pt\", truncation=True, padding=True, max_length=128)\n",
    "        inputs = {key: val.to(device) for key, val in inputs.items()}\n",
    "        with torch.no_grad():\n",
    "            outputs = model(**inputs)\n",
    "        logits = outputs.logits\n",
    "        sentiment_id = torch.argmax(logits, dim=1).item()\n",
    "        return \"positive\" if sentiment_id == 1 else \"negative\"\n",
    "    \n",
    "    # Combine aspects and sentiments\n",
    "    all_aspects = []\n",
    "    all_sentiments = []\n",
    "    for sent in cleaned_sentences:\n",
    "        aspects, clauses = extract_aspects_and_clauses(sent)\n",
    "        if len(aspects) > 1 and len(clauses) >= len(aspects):\n",
    "            sentiments = [get_sentiment(clause) for clause in clauses[:len(aspects)]]\n",
    "        else:\n",
    "            sentiments = [get_sentiment(sent)] * len(aspects)  # Use full sentence if clauses don’t align\n",
    "        all_aspects.extend(aspects)\n",
    "        all_sentiments.extend(sentiments[:len(aspects)])\n",
    "    \n",
    "    return list(zip(all_aspects, all_sentiments))\n",
    "\n",
    "# Apply to the DataFrame\n",
    "df['aspect_sentiment'] = df['review'].apply(analyze_review)\n",
    "\n",
    "# Verify\n",
    "print(\"Step 6 complete. Sample aspect-sentiment pairs:\")\n",
    "print(df[['cleaned_sentences', 'aspect_sentiment']].head())"
   ]
  },
  {
   "cell_type": "markdown",
   "metadata": {},
   "source": [
    "# Evaluation Metrics"
   ]
  },
  {
   "cell_type": "code",
   "execution_count": 13,
   "metadata": {
    "execution": {
     "iopub.execute_input": "2025-04-02T15:34:00.318924Z",
     "iopub.status.busy": "2025-04-02T15:34:00.318573Z",
     "iopub.status.idle": "2025-04-02T15:34:00.559135Z",
     "shell.execute_reply": "2025-04-02T15:34:00.558465Z",
     "shell.execute_reply.started": "2025-04-02T15:34:00.318891Z"
    },
    "trusted": true
   },
   "outputs": [
    {
     "name": "stdout",
     "output_type": "stream",
     "text": [
      "\n",
      "Evaluation for Fresh System (5 Topics):\n",
      "Heuristic Agreement with Overall Sentiment: 80.96%\n",
      "Breakdown:\n",
      "Predicted  negative  positive\n",
      "Actual                       \n",
      "negative      20566      4434\n",
      "positive       5087     19913\n",
      "\n",
      "Manual Validation Sample (Label these manually if desired):\n",
      "\n",
      "Review 33553: I really liked this Summerslam due to the look of the arena, the curtains and just the look overall was interesting to me for some reason. Anyways, this could have been one of the best Summerslam's ev...\n",
      "Predicted Aspect-Sentiment: [('cinematography', 'positive'), ('general_viewing_experience', 'positive'), ('story_and_performance', 'negative'), ('plot', 'negative'), ('story_and_performance', 'negative')]\n",
      "True Aspect-Sentiment: [e.g., [('acting', 'positive'), ('plot', 'negative')]]\n",
      "\n",
      "Review 9427: Not many television shows appeal to quite as many different kinds of fans like Farscape does...I know youngsters and 30/40+ years old;fans both Male and Female in as many different countries as you ca...\n",
      "Predicted Aspect-Sentiment: [('direction', 'positive'), ('general_viewing_experience', 'positive'), ('narrative_tone', 'positive'), ('story_and_performance', 'negative'), ('general_viewing_experience', 'negative'), ('cinematography', 'positive'), ('overall', 'positive'), ('story_and_performance', 'positive'), ('direction', 'negative')]\n",
      "True Aspect-Sentiment: [e.g., [('acting', 'positive'), ('plot', 'negative')]]\n",
      "\n",
      "Review 199: The film quickly gets to a major chase scene with ever increasing destruction. The first really bad thing is the guy hijacking Steven Seagal would have been beaten to pulp by Seagal's driving, but tha...\n",
      "Predicted Aspect-Sentiment: [('cinematography', 'negative'), ('overall', 'negative'), ('plot', 'negative'), ('overall', 'negative'), ('overall', 'negative')]\n",
      "True Aspect-Sentiment: [e.g., [('acting', 'positive'), ('plot', 'negative')]]\n",
      "\n",
      "Review 12447: Jane Austen would definitely approve of this one!<br /><br />Gwyneth Paltrow does an awesome job capturing the attitude of Emma. She is funny without being excessively silly, yet elegant. She puts on ...\n",
      "Predicted Aspect-Sentiment: [('character_roles_and_execution', 'positive'), ('story_and_performance', 'positive'), ('character_roles_and_execution', 'positive'), ('character_roles_and_execution', 'negative'), ('general_viewing_experience', 'positive')]\n",
      "True Aspect-Sentiment: [e.g., [('acting', 'positive'), ('plot', 'negative')]]\n",
      "\n",
      "Review 39489: Expectations were somewhat high for me when I went to see this movie, after all I thought Steve Carell could do no wrong coming off of great movies like Anchorman, The 40 Year-Old Virgin, and Little M...\n",
      "Predicted Aspect-Sentiment: [('overall', 'positive'), ('overall', 'positive'), ('overall', 'positive'), ('overall', 'negative'), ('overall', 'negative'), ('narrative_tone', 'negative'), ('narrative_tone', 'negative'), ('narrative_tone', 'negative'), ('narrative_tone', 'positive'), ('narrative_tone', 'negative'), ('cinematography', 'negative'), ('overall', 'negative'), ('general_viewing_experience', 'negative'), ('general_viewing_experience', 'positive')]\n",
      "True Aspect-Sentiment: [e.g., [('acting', 'positive'), ('plot', 'negative')]]\n"
     ]
    }
   ],
   "source": [
    "# Heuristic Agreement\n",
    "def evaluate_system(df, system_name=\"Current System\"):\n",
    "    def aggregate_sentiment(aspect_sentiment_pairs):\n",
    "        if not aspect_sentiment_pairs:\n",
    "            return \"positive\"  # Default if no aspects\n",
    "        sentiments = [pair[1] for pair in aspect_sentiment_pairs]\n",
    "        sentiment_counts = Counter(sentiments)\n",
    "        return max(sentiment_counts.items(), key=lambda x: x[1])[0]  # Majority vote\n",
    "    \n",
    "    df['predicted_overall_sentiment'] = df['aspect_sentiment'].apply(aggregate_sentiment)\n",
    "    agreement = (df['predicted_overall_sentiment'] == df['sentiment']).mean()\n",
    "    print(f\"\\nEvaluation for {system_name}:\")\n",
    "    print(f\"Heuristic Agreement with Overall Sentiment: {agreement:.2%}\")\n",
    "    print(\"Breakdown:\")\n",
    "    cross_tab = pd.crosstab(df['sentiment'], df['predicted_overall_sentiment'], rownames=['Actual'], colnames=['Predicted'])\n",
    "    print(cross_tab)\n",
    "\n",
    "# Run evaluation\n",
    "evaluate_system(df, \"Fresh System (5 Topics)\")\n",
    "\n",
    "# Manual Validation Sample\n",
    "sample_df = df[['review', 'aspect_sentiment']].sample(5, random_state=42)  # Small sample for now\n",
    "print(\"\\nManual Validation Sample (Label these manually if desired):\")\n",
    "for idx, row in sample_df.iterrows():\n",
    "    print(f\"\\nReview {idx}: {row['review'][:200]}...\")  # Truncate for readability\n",
    "    print(f\"Predicted Aspect-Sentiment: {row['aspect_sentiment']}\")\n",
    "    print(\"True Aspect-Sentiment: [e.g., [('acting', 'positive'), ('plot', 'negative')]]\")"
   ]
  },
  {
   "cell_type": "markdown",
   "metadata": {},
   "source": [
    "# Visualization"
   ]
  },
  {
   "cell_type": "code",
   "execution_count": 14,
   "metadata": {
    "execution": {
     "iopub.execute_input": "2025-04-02T15:34:13.315722Z",
     "iopub.status.busy": "2025-04-02T15:34:13.315384Z",
     "iopub.status.idle": "2025-04-02T15:34:13.978207Z",
     "shell.execute_reply": "2025-04-02T15:34:13.977370Z",
     "shell.execute_reply.started": "2025-04-02T15:34:13.315693Z"
    },
    "trusted": true
   },
   "outputs": [
    {
     "data": {
      "text/plain": [
       "<Figure size 1200x600 with 0 Axes>"
      ]
     },
     "metadata": {},
     "output_type": "display_data"
    },
    {
     "data": {
      "image/png": "[encoded data removed]",
      "text/plain": [
       "<Figure size 640x480 with 1 Axes>"
      ]
     },
     "metadata": {},
     "output_type": "display_data"
    },
    {
     "name": "stdout",
     "output_type": "stream",
     "text": [
      "\n",
      "Sentiment Counts per Aspect:\n",
      "sentiment                      negative  positive\n",
      "aspect                                           \n",
      "acting                            18418     26697\n",
      "character_roles_and_execution      9030     12389\n",
      "cinematography                    26315     21293\n",
      "direction                          8572      9228\n",
      "general_viewing_experience        53787     43689\n",
      "narrative_tone                    38234     24570\n",
      "overall                           94687     98483\n",
      "plot                              26598     22422\n",
      "production_quality                11504     11175\n",
      "soundtrack                         6697      8473\n",
      "story_and_performance             23631     20240\n"
     ]
    }
   ],
   "source": [
    "# Explode the aspect_sentiment column into a flat DataFrame\n",
    "exploded_df = df['aspect_sentiment'].explode().dropna()\n",
    "aspect_sentiment_df = pd.DataFrame(exploded_df.tolist(), index=exploded_df.index, columns=['aspect', 'sentiment'])\n",
    "\n",
    "# Count sentiments per aspect\n",
    "sentiment_counts = aspect_sentiment_df.groupby(['aspect', 'sentiment']).size().unstack(fill_value=0)\n",
    "\n",
    "# Plot stacked bar chart\n",
    "plt.figure(figsize=(12, 6))\n",
    "sentiment_counts.plot(kind='bar', stacked=True, color=['red', 'green'])\n",
    "plt.title(\"Sentiment Distribution per Aspect (1,000 Reviews)\")\n",
    "plt.xlabel(\"Aspect\")\n",
    "plt.ylabel(\"Count\")\n",
    "plt.legend(title=\"Sentiment\", labels=['Negative', 'Positive'])\n",
    "plt.xticks(rotation=45, ha='right')\n",
    "plt.tight_layout()\n",
    "plt.show()\n",
    "\n",
    "# Display raw counts for reference\n",
    "print(\"\\nSentiment Counts per Aspect:\")\n",
    "print(sentiment_counts)"
   ]
  },
  {
   "cell_type": "markdown",
   "metadata": {},
   "source": [
    "# Interactive Tool"
   ]
  },
  {
   "cell_type": "code",
   "execution_count": 26,
   "metadata": {
    "execution": {
     "iopub.execute_input": "2025-04-02T15:46:50.884172Z",
     "iopub.status.busy": "2025-04-02T15:46:50.883826Z",
     "iopub.status.idle": "2025-04-02T15:46:51.349695Z",
     "shell.execute_reply": "2025-04-02T15:46:51.349006Z",
     "shell.execute_reply.started": "2025-04-02T15:46:50.884125Z"
    },
    "trusted": true
   },
   "outputs": [
    {
     "name": "stdout",
     "output_type": "stream",
     "text": [
      "Aspect-Based Sentiment Analysis Tool:\n",
      "\n",
      "Input Review: A vibrant, quirky masterpiece with charming chaos and impeccable humor. A visual feast that keeps you smiling.\n",
      "Analysis:\n",
      "- Sentence: 'viant quirky masterpiece charming chaos impeccable humor' | Aspect: production_quality | Sentiment: positive\n",
      "- Sentence: 'visual feast keeps smiling' | Aspect: cinematography | Sentiment: positive\n"
     ]
    },
    {
     "data": {
      "image/png": "[encoded data removed]",
      "text/plain": [
       "<Figure size 600x400 with 1 Axes>"
      ]
     },
     "metadata": {},
     "output_type": "display_data"
    },
    {
     "name": "stdout",
     "output_type": "stream",
     "text": [
      "\n",
      "Input Review: Despite a promising premise, the film falls flat due to poorly developed characters and a disjointed storyline. The pacing is inconsistent, making it hard to stay engaged, and the dialogue lacks depth. Overall, a disappointing execution of what could have been a compelling narrative\n",
      "Analysis:\n",
      "- Sentence: 'despite promising premise film falls flat due poorly developed characters disjointed storyline' | Aspect: plot | Sentiment: negative\n",
      "- Sentence: 'pacing inconsistent making hard stay engaged dialogue lacks depth' | Aspect: overall | Sentiment: negative\n",
      "- Sentence: 'overall disappointing execution could compelling narrative' | Aspect: story_and_performance | Sentiment: negative\n"
     ]
    },
    {
     "data": {
      "image/png": "[encoded data removed]",
      "text/plain": [
       "<Figure size 600x400 with 1 Axes>"
      ]
     },
     "metadata": {},
     "output_type": "display_data"
    },
    {
     "name": "stdout",
     "output_type": "stream",
     "text": [
      "\n",
      "Input Review: Some scenes are captivating. But the overall story feels uneven and fails to fully engage.\n",
      "Analysis:\n",
      "- Sentence: 'scenes captivating' | Aspect: cinematography | Sentiment: positive\n",
      "- Sentence: 'overall story feels uneven fails fully engage' | Aspect: plot | Sentiment: negative\n"
     ]
    },
    {
     "data": {
      "image/png": "[encoded data removed]",
      "text/plain": [
       "<Figure size 600x400 with 1 Axes>"
      ]
     },
     "metadata": {},
     "output_type": "display_data"
    }
   ],
   "source": [
    "# Interactive analysis function\n",
    "def display_analysis(review):\n",
    "    sentences = sent_tokenize(review.lower().replace(\"br\", \"\"))\n",
    "    cleaned_sentences = []\n",
    "    for sent in sentences:\n",
    "        words = word_tokenize(sent)\n",
    "        words = [word for word in words if word.isalnum() and word not in stop_words]\n",
    "        if words:\n",
    "            cleaned_sentences.append(\" \".join(words))\n",
    "    \n",
    "    # aspect_keywords\n",
    "    aspect_keywords_local = {\n",
    "        \"acting\": [\"actor\", \"actress\", \"performance\", \"cast\", \"role\", \"played\", \"plays\", \"acting\"],\n",
    "        \"plot\": [\"story\", \"plot\", \"narrative\", \"script\", \"ending\"],\n",
    "        \"cinematography\": [\"visual\", \"cinematography\", \"camera\", \"shot\", \"scene\", \"scenes\", \"look\"],\n",
    "        \"soundtrack\": [\"music\", \"sound\", \"score\", \"soundtrack\", \"audio\", \"songs\"],\n",
    "        \"direction\": [\"director\", \"direction\", \"paced\", \"style\", \"vision\"],\n",
    "        \"overall\": [\"movie\", \"film\", \"good\", \"bad\", \"great\", \"audience\"]\n",
    "    }\n",
    "    \n",
    "    def extract_aspects_and_clauses(sentence):\n",
    "        clauses = re.split(r'\\b(but|and|,)\\b', sentence)\n",
    "        clauses = [clause.strip() for clause in clauses if clause.strip() and clause not in [\"but\", \"and\", \",\"]]\n",
    "        aspects = []\n",
    "        clause_texts = []\n",
    "        for clause in clauses:\n",
    "            found_aspects = []\n",
    "            for aspect, keywords in aspect_keywords_local.items():\n",
    "                if any(kw in clause for kw in keywords):\n",
    "                    found_aspects.append(aspect)\n",
    "            if found_aspects:\n",
    "                aspects.extend(found_aspects)\n",
    "                clause_texts.append(clause)\n",
    "        if not aspects:\n",
    "            bow = dictionary.doc2bow(sentence.split())\n",
    "            topics = lda_model[bow]\n",
    "            if topics:\n",
    "                topic_id = max(topics, key=lambda x: x[1])[0]\n",
    "                aspects.append(topic_to_aspect.get(topic_id, \"unknown\"))\n",
    "                clause_texts.append(sentence)\n",
    "        return aspects, clause_texts if clause_texts else [sentence]\n",
    "    \n",
    "    def get_sentiment(text):\n",
    "        if not text:\n",
    "            return \"positive\"\n",
    "        inputs = tokenizer(text, return_tensors=\"pt\", truncation=True, padding=True, max_length=128)\n",
    "        inputs = {key: val.to(device) for key, val in inputs.items()}\n",
    "        with torch.no_grad():\n",
    "            outputs = model(**inputs)\n",
    "        logits = outputs.logits\n",
    "        sentiment_id = torch.argmax(logits, dim=1).item()\n",
    "        return \"positive\" if sentiment_id == 1 else \"negative\"\n",
    "    \n",
    "    all_aspects = []\n",
    "    all_sentiments = []\n",
    "    for sent in cleaned_sentences:\n",
    "        aspects, clauses = extract_aspects_and_clauses(sent)\n",
    "        if len(aspects) > 1 and len(clauses) >= len(aspects):\n",
    "            sentiments = [get_sentiment(clause) for clause in clauses[:len(aspects)]]\n",
    "        else:\n",
    "            sentiments = [get_sentiment(sent)] * len(aspects)\n",
    "        all_aspects.extend(aspects)\n",
    "        all_sentiments.extend(sentiments[:len(aspects)])\n",
    "    \n",
    "    aspect_sentiment_pairs = list(zip(all_aspects, all_sentiments))\n",
    "    \n",
    "    # Display results\n",
    "    print(f\"\\nInput Review: {review}\")\n",
    "    print(\"Analysis:\")\n",
    "    for sent, (aspect, sentiment) in zip(cleaned_sentences, aspect_sentiment_pairs):\n",
    "        print(f\"- Sentence: '{sent}' | Aspect: {aspect} | Sentiment: {sentiment}\")\n",
    "    \n",
    "    if aspect_sentiment_pairs:\n",
    "        aspects, sentiments = zip(*aspect_sentiment_pairs)\n",
    "        sentiment_counts = pd.Series(sentiments).value_counts()\n",
    "        plt.figure(figsize=(6, 4))\n",
    "        sentiment_counts.plot(kind='bar', color=['red', 'green'])\n",
    "        plt.title(\"Sentiment Distribution for Review\")\n",
    "        plt.xlabel(\"Sentiment\")\n",
    "        plt.ylabel(\"Count\")\n",
    "        plt.show()\n",
    "\n",
    "# Testing\n",
    "print(\"Aspect-Based Sentiment Analysis Tool:\")\n",
    "test_reviews = [\n",
    "    \"A vibrant, quirky masterpiece with charming chaos and impeccable humor. A visual feast that keeps you smiling.\",\n",
    "    \"Despite a promising premise, the film falls flat due to poorly developed characters and a disjointed storyline. The pacing is inconsistent, making it hard to stay engaged, and the dialogue lacks depth. Overall, a disappointing execution of what could have been a compelling narrative\",\n",
    "    \"Some scenes are captivating. But the overall story feels uneven and fails to fully engage.\"\n",
    "]\n",
    "\n",
    "for review in test_reviews:\n",
    "    display_analysis(review)"
   ]
  },
  {
   "cell_type": "code",
   "execution_count": null,
   "metadata": {
    "trusted": true
   },
   "outputs": [],
   "source": [
    "df.head()"
   ]
  },
  {
   "cell_type": "code",
   "execution_count": null,
   "metadata": {
    "trusted": true
   },
   "outputs": [],
   "source": []
  }
 ],
 "metadata": {
  "kaggle": {
   "accelerator": "nvidiaTeslaT4",
   "dataSources": [
    {
     "datasetId": 134715,
     "sourceId": 320111,
     "sourceType": "datasetVersion"
    }
   ],
   "dockerImageVersionId": 30919,
   "isGpuEnabled": true,
   "isInternetEnabled": true,
   "language": "python",
   "sourceType": "notebook"
  },
  "kernelspec": {
   "display_name": "environment",
   "language": "python",
   "name": "python3"
  },
  "language_info": {
   "codemirror_mode": {
    "name": "ipython",
    "version": 3
   },
   "file_extension": ".py",
   "mimetype": "text/x-python",
   "name": "python",
   "nbconvert_exporter": "python",
   "pygments_lexer": "ipython3",
   "version": "3.12.5"
  }
 },
 "nbformat": 4,
 "nbformat_minor": 4
}
